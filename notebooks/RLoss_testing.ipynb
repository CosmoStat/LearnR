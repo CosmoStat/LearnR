{
 "cells": [
  {
   "cell_type": "markdown",
   "id": "ultimate-rocket",
   "metadata": {},
   "source": [
    "# Testing CNN Shape Measurement Responsivity of Simple Galaxy Models"
   ]
  },
  {
   "cell_type": "code",
   "execution_count": 1,
   "id": "4e546f04-8034-4012-98b8-33404a8a86eb",
   "metadata": {},
   "outputs": [
    {
     "name": "stdout",
     "output_type": "stream",
     "text": [
      "Populating the interactive namespace from numpy and matplotlib\n"
     ]
    }
   ],
   "source": [
    "%pylab inline"
   ]
  },
  {
   "cell_type": "code",
   "execution_count": 2,
   "id": "violent-chemistry",
   "metadata": {},
   "outputs": [
    {
     "name": "stderr",
     "output_type": "stream",
     "text": [
      "<frozen importlib._bootstrap>:219: RuntimeWarning: scipy._lib.messagestream.MessageStream size changed, may indicate binary incompatibility. Expected 56 from C header, got 64 from PyObject\n"
     ]
    },
    {
     "name": "stdout",
     "output_type": "stream",
     "text": [
      "Tensorflow version: 2.7.0\n"
     ]
    }
   ],
   "source": [
    "from scipy.stats import gaussian_kde, pearsonr\n",
    "\n",
    "#tensorflow\n",
    "import tensorflow as tf\n",
    "config = tf.compat.v1.ConfigProto()\n",
    "config.gpu_options.allow_growth = True\n",
    "sess = tf.compat.v1.Session(config=config)\n",
    "print(\"Tensorflow version: {}\".format(tf.version.VERSION))\n",
    "\n",
    "#keras only after gpu ID and memory usage is set\n",
    "import tensorflow.keras.models as km\n",
    "import tensorflow.keras.layers as kl\n",
    "import tensorflow.keras.regularizers as kr\n",
    "import tensorflow.keras.optimizers as ko\n",
    "\n",
    "import tensorflow_datasets as tfds\n",
    "import autometacal as amc\n",
    "import galsim\n",
    "import tqdm"
   ]
  },
  {
   "cell_type": "markdown",
   "id": "blessed-guest",
   "metadata": {},
   "source": [
    "## CNN Models"
   ]
  },
  {
   "cell_type": "code",
   "execution_count": 3,
   "id": "cooperative-madison",
   "metadata": {},
   "outputs": [],
   "source": [
    "def Ribli19(imsize=50, n_target=2 ,n_channels=1, nf=64, reg = 5e-5,\n",
    "          padding='same'):\n",
    "\n",
    "    #input\n",
    "    inp = kl.Input((imsize, imsize,n_channels))\n",
    "    \n",
    "    # conv block 1\n",
    "    x = kl.Conv2D(nf, (3, 3), padding=padding,kernel_regularizer=kr.l2(reg))(inp)\n",
    "    x = kl.Activation('relu')(kl.BatchNormalization()(x))\n",
    "    \n",
    "    x = kl.Conv2D(nf, (3, 3), padding=padding,kernel_regularizer=kr.l2(reg))(x)\n",
    "    x = kl.Activation('relu')(kl.BatchNormalization()(x))\n",
    "    \n",
    "    x = kl.MaxPooling2D(strides=(2,2))(x)\n",
    "    \n",
    "    # conv block 2\n",
    "    x = kl.Conv2D(2*nf, (3, 3), padding=padding,kernel_regularizer=kr.l2(reg))(x)\n",
    "    x = kl.Activation('relu')(kl.BatchNormalization()(x))\n",
    "    \n",
    "    x = kl.Conv2D(2*nf, (3, 3), padding=padding, kernel_regularizer=kr.l2(reg))(x)\n",
    "    x = kl.Activation('relu')(kl.BatchNormalization()(x))\n",
    "    \n",
    "    x = kl.MaxPooling2D(strides=(2,2))(x)\n",
    "\n",
    "    # conv block 3\n",
    "    x = kl.Conv2D(4*nf, (3, 3), padding=padding, kernel_regularizer=kr.l2(reg))(x)\n",
    "    x = kl.Activation('relu')(kl.BatchNormalization()(x))\n",
    "    \n",
    "    x = kl.Conv2D(2*nf, (1, 1), padding=padding, kernel_regularizer=kr.l2(reg))(x)\n",
    "    x = kl.Activation('relu')(kl.BatchNormalization()(x))\n",
    "    \n",
    "    x = kl.Conv2D(4*nf, (3, 3), padding=padding, kernel_regularizer=kr.l2(reg))(x)\n",
    "    x = kl.Activation('relu')(kl.BatchNormalization()(x))\n",
    "    x = kl.MaxPooling2D(strides=(2,2))(x)\n",
    "\n",
    "    # conv block 4\n",
    "    x = kl.Conv2D(8*nf, (3, 3), padding=padding, kernel_regularizer=kr.l2(reg))(x)\n",
    "    x = kl.Activation('relu')(kl.BatchNormalization()(x))\n",
    "    \n",
    "    x = kl.Conv2D(4*nf, (1, 1), padding=padding, kernel_regularizer=kr.l2(reg))(x)\n",
    "    x = kl.Activation('relu')(kl.BatchNormalization()(x))\n",
    "    \n",
    "    x = kl.Conv2D(8*nf, (3, 3), padding=padding, kernel_regularizer=kr.l2(reg))(x)\n",
    "    x = kl.Activation('relu')(kl.BatchNormalization()(x))\n",
    "    x = kl.MaxPooling2D(strides=(2,2))(x)\n",
    "    \n",
    "    # conv block 5\n",
    "    x = kl.Conv2D(16*nf, (3, 3), padding=padding, kernel_regularizer=kr.l2(reg))(x)\n",
    "    x = kl.Activation('relu')(kl.BatchNormalization()(x))\n",
    "    \n",
    "    x = kl.Conv2D(8*nf, (1, 1), padding=padding,  kernel_regularizer=kr.l2(reg))(x)\n",
    "    x = kl.Activation('relu')(kl.BatchNormalization()(x))\n",
    "    \n",
    "    x = kl.Conv2D(16*nf, (3, 3), padding=padding, kernel_regularizer=kr.l2(reg))(x)\n",
    "    x = kl.Activation('relu')(kl.BatchNormalization()(x))\n",
    "    \n",
    "    #  end of conv\n",
    "    \n",
    "    x = kl.GlobalAveragePooling2D()(x)    \n",
    "    x = kl.Dense(n_target)(x)#, name = 'final_dense_n%d_ngpu%d' % (n_target, len(gpu.split(','))))(x)  \n",
    "\n",
    "    model = km.Model(inputs=inp, outputs=x)  # make model\n",
    "       \n",
    "    return model\n"
   ]
  },
  {
   "cell_type": "markdown",
   "id": "crazy-rover",
   "metadata": {},
   "source": [
    "## Load Data"
   ]
  },
  {
   "cell_type": "code",
   "execution_count": 4,
   "id": "3a6db762-0fa9-4e42-87c7-ff11488bf22c",
   "metadata": {},
   "outputs": [],
   "source": [
    "from autometacal.python.datasets import GalGen"
   ]
  },
  {
   "cell_type": "code",
   "execution_count": 5,
   "id": "bdb7201c-04f6-48c7-877a-b994f26416dc",
   "metadata": {},
   "outputs": [],
   "source": [
    "batch_size=64\n",
    "data= tfds.load('GalGen/small_stamp_100k')\n",
    "data = data['train'].cache()\n",
    "data = data.repeat()\n",
    "data = data.shuffle(1000)\n",
    "data = data.batch(batch_size)\n",
    "data = data.prefetch(tf.data.experimental.AUTOTUNE)"
   ]
  },
  {
   "cell_type": "code",
   "execution_count": 6,
   "id": "2676579b-2663-46e3-83c4-a1c0611b3caf",
   "metadata": {},
   "outputs": [],
   "source": [
    "batchit = data.as_numpy_iterator()\n",
    "onebatch = batchit.next()\n",
    "\n",
    "reconv_psf = galsim.Moffat(beta=2.5, fwhm=0.9*1.2)\n",
    "\n",
    "reconv_psf_image = tf.expand_dims(tf.convert_to_tensor(reconv_psf.drawImage(nx=51, ny=51, scale=.2).array),axis=0)\n",
    "gal_images,psf_images = onebatch['obs_image'],onebatch['psf_image'] "
   ]
  },
  {
   "cell_type": "code",
   "execution_count": 7,
   "id": "2b89116c-326f-46c9-84b4-a0b31f533f71",
   "metadata": {},
   "outputs": [
    {
     "data": {
      "image/png": "[encoded data removed]",
      "text/plain": [
       "<Figure size 1000x1000 with 16 Axes>"
      ]
     },
     "metadata": {},
     "output_type": "display_data"
    }
   ],
   "source": [
    "plt.style.use('default')\n",
    "plt.figure(figsize=(10,10))\n",
    "for i in range(16):\n",
    "  plt.subplot(4,4,i+1)\n",
    "  plt.imshow(gal_images[i])"
   ]
  },
  {
   "cell_type": "markdown",
   "id": "0452b688-a5df-44c7-9da5-60e6f1909dba",
   "metadata": {},
   "source": [
    "### Test with finitediff"
   ]
  },
  {
   "cell_type": "code",
   "execution_count": 8,
   "id": "9aab318a-bab3-4c65-87b9-cbe5cf26c38a",
   "metadata": {},
   "outputs": [],
   "source": [
    "@tf.function\n",
    "def get_metacal_response_finitediff(gal_image,\n",
    "                                    psf_image,\n",
    "                                    reconv_psf_image,\n",
    "                                    shear,\n",
    "                                    step,\n",
    "                                    method):\n",
    "  \"\"\"\n",
    "  Gets shear response as a finite difference operation, \n",
    "  instead of automatic differentiation.\n",
    "  \"\"\"\n",
    "  batch_size, _ , _ = gal_image.get_shape().as_list()\n",
    "  step_batch = tf.constant(step,shape=(batch_size,1),dtype=tf.float32)\n",
    "  \n",
    "  step1p = tf.pad(step_batch,[[0,0],[0,1]])\n",
    "  step1m = tf.pad(-step_batch,[[0,0],[0,1]])\n",
    "  step2p = tf.pad(step_batch,[[0,0],[1,0]])\n",
    "  step2m = tf.pad(-step_batch,[[0,0],[1,0]])\n",
    "    \n",
    "  img0s = generate_mcal_image(\n",
    "    gal_image,\n",
    "    psf_image,\n",
    "    reconv_psf_image,\n",
    "    tf.zeros([batch_size,2])\n",
    "  ) \n",
    "  \n",
    "  shears1p = shear + step1p\n",
    "  img1p = generate_mcal_image(\n",
    "    gal_image,\n",
    "    psf_image,\n",
    "    reconv_psf_image,\n",
    "    shears1p\n",
    "  )\n",
    "  \n",
    "  shears1m = shear + step1m \n",
    "  img1m = generate_mcal_image(\n",
    "    gal_image,\n",
    "    psf_image,\n",
    "    reconv_psf_image,\n",
    "    shears1m\n",
    "  ) \n",
    "  \n",
    "  shears2p = shear + step2p \n",
    "  img2p = generate_mcal_image(\n",
    "    gal_image,\n",
    "    psf_image,\n",
    "    reconv_psf_image,\n",
    "    shears2p\n",
    "  )\n",
    "  \n",
    "  shears2m = shear + step2m \n",
    "  img2m = generate_mcal_image(\n",
    "    gal_image,\n",
    "    psf_image,\n",
    "    reconv_psf_image,\n",
    "    shears2m\n",
    "  ) \n",
    "  \n",
    "  g0s = method(img0s)\n",
    "  g1p = method(img1p)\n",
    "  g1m = method(img1m)\n",
    "  g2p = method(img2p)\n",
    "  g2m = method(img2m)\n",
    "  \n",
    "  R11 = (g1p[:,0]-g1m[:,0])/(2*step)\n",
    "  R21 = (g1p[:,1]-g1m[:,1])/(2*step) \n",
    "  R12 = (g2p[:,0]-g2m[:,0])/(2*step)\n",
    "  R22 = (g2p[:,1]-g2m[:,1])/(2*step)\n",
    " \n",
    "  #N. B.:The matrix is correct. \n",
    "  #The transposition will swap R12 with R21 across a batch correctly.\n",
    "  R = tf.transpose(tf.convert_to_tensor(\n",
    "    [[R11,R21],\n",
    "     [R12,R22]],dtype=tf.float32)\n",
    "  )\n",
    "  \n",
    "  ellip_dict = {\n",
    "    'noshear':g0s,\n",
    "    '1p':g1p,\n",
    "    '1m':g1m,\n",
    "    '2p':g2p,\n",
    "    '2m':g2m,    \n",
    "  } \n",
    "  \n",
    "  return ellip_dict, R"
   ]
  },
  {
   "cell_type": "code",
   "execution_count": 9,
   "id": "b17b9a99-751b-4f8e-806c-4ed53d801762",
   "metadata": {},
   "outputs": [],
   "source": [
    "generate_mcal_image = amc.generate_mcal_image"
   ]
  },
  {
   "cell_type": "code",
   "execution_count": 10,
   "id": "ebad5000-ab2e-4d4a-9c22-d13fee42e5db",
   "metadata": {},
   "outputs": [],
   "source": [
    "def lossad(batch,model):\n",
    "  \n",
    "  shears = tf.random.uniform((batch_size,2),-.1,.1,dtype=tf.float32)\n",
    "\n",
    "  R = amc.get_metacal_response(batch['obs_image'],batch['psf_image'],shears,reconv_psf_image,model)[1]\n",
    "  \n",
    "  lost = tf.norm(R - tf.eye(2))\n",
    "  \n",
    "  return lost"
   ]
  },
  {
   "cell_type": "code",
   "execution_count": 11,
   "id": "9fd56afc-c893-41c4-8519-b2f162873c89",
   "metadata": {},
   "outputs": [],
   "source": [
    "@tf.function\n",
    "def loss(batch,model):\n",
    "  \n",
    "  shears = tf.random.uniform((batch_size,2),-.1,.1,dtype=tf.float32)\n",
    "  #compute response\n",
    "  R = get_metacal_response_finitediff(batch['obs_image'],\n",
    "                                      batch['psf_image'],\n",
    "                                      reconv_psf_image,\n",
    "                                      shear=shears,\n",
    "                                      step=0.01,\n",
    "                                      method=model)[1]\n",
    "  #R = amc.get_metacal_response(batch['obs_image'],batch['psf_image'],reconv_psf_image,model)[1]\n",
    "  \n",
    "  lost = tf.norm(R - tf.eye(2))\n",
    "  \n",
    "  return lost"
   ]
  },
  {
   "cell_type": "code",
   "execution_count": 12,
   "id": "f76b80c0-3824-4539-94b6-ab9e31752640",
   "metadata": {},
   "outputs": [],
   "source": [
    "@tf.function\n",
    "def step(batch):\n",
    "  \n",
    "  with tf.GradientTape() as tape:\n",
    "    tape.watch(model.trainable_variables)\n",
    "       \n",
    "    lost = loss(batch,model)\n",
    "    \n",
    "\n",
    "  grads = tape.gradient(lost, model.trainable_variables)\n",
    "  opt.apply_gradients(zip(grads, model.trainable_variables))\n",
    "  return lost\n",
    "   \n",
    "opt = ko.Adam()  "
   ]
  },
  {
   "cell_type": "code",
   "execution_count": 13,
   "id": "7cc87b33-04cf-4c8c-a333-2bbdd9f8a695",
   "metadata": {},
   "outputs": [],
   "source": [
    "model = Ribli19(51,n_channels=1)"
   ]
  },
  {
   "cell_type": "code",
   "execution_count": 14,
   "id": "010d71f9-4694-41be-993f-d09f39d39c57",
   "metadata": {},
   "outputs": [
    {
     "data": {
      "text/plain": [
       "<tf.Tensor: shape=(), dtype=float32, numpy=11.313036>"
      ]
     },
     "execution_count": 14,
     "metadata": {},
     "output_type": "execute_result"
    }
   ],
   "source": [
    "step(onebatch)"
   ]
  },
  {
   "cell_type": "code",
   "execution_count": null,
   "id": "8b5fdc4a-1868-49cb-bfac-937bf4bcb5c3",
   "metadata": {
    "tags": []
   },
   "outputs": [
    {
     "name": "stdout",
     "output_type": "stream",
     "text": [
      " 2.4927,   60  \r"
     ]
    }
   ],
   "source": [
    "lost = []\n",
    "its = []\n",
    "iterations = 1000\n",
    "for it in range(iterations):\n",
    "  batch = batchit.next()\n",
    "  nowlost = step(batch)\n",
    "  if not it%10:\n",
    "    print(f\"{nowlost: .4f},   {it}  \",end='\\r')\n",
    "    lost.append(nowlost)\n",
    "    its.append(it)  \n",
    "model.save(\"RLmodel.model\")"
   ]
  },
  {
   "cell_type": "code",
   "execution_count": null,
   "id": "c6e34946-bac3-43c8-bdc2-465d785f750b",
   "metadata": {},
   "outputs": [],
   "source": [
    "style.use('ggplot')\n",
    "plot(its,lost)\n",
    "xlabel('iterations')\n",
    "ylabel('loss')\n",
    "savefig(f'learningRloss{time.time()}.png',bbox_inches='tight')"
   ]
  },
  {
   "cell_type": "code",
   "execution_count": null,
   "id": "4cd71b3d-6a06-4938-914f-981231470b98",
   "metadata": {},
   "outputs": [],
   "source": [
    "garray_list = []\n",
    "e_auto_list = []\n",
    "R_auto_list = []\n",
    "for n in tqdm.tqdm(range(10)):\n",
    "  batch = batchit.next()\n",
    "  garray=batch['label']\n",
    "  garray_list.append(garray)\n",
    "  e_auto, R_auto = amc.get_metacal_response(batch['obs_image'],batch['psf_image'],reconv_psf_image,model)\n",
    "  e_auto_list.append(e_auto)\n",
    "  R_auto_list.append(R_auto)"
   ]
  },
  {
   "cell_type": "code",
   "execution_count": null,
   "id": "a030193e-8fb5-4b66-9e6c-00e3281716a6",
   "metadata": {},
   "outputs": [],
   "source": [
    "garray=tf.concat(garray_list,axis=0)\n",
    "e_auto=tf.concat(e_auto_list,axis=0)\n",
    "R_auto=tf.concat(R_auto_list,axis=0)"
   ]
  },
  {
   "cell_type": "code",
   "execution_count": null,
   "id": "1d1d632a-4995-45f8-8a34-17904ee28476",
   "metadata": {},
   "outputs": [],
   "source": [
    "np.save(\"garray.npy\",garray.numpy())\n",
    "np.save(\"e_auto.npy\",e_auto.numpy())\n",
    "np.save(\"R_auto.npy\",R_auto.numpy())"
   ]
  },
  {
   "cell_type": "code",
   "execution_count": null,
   "id": "c86c57ff-065c-4557-ab75-8f4027bc47bd",
   "metadata": {},
   "outputs": [],
   "source": [
    "calibre_f=mean(tf.linalg.inv(R_auto[:]),axis=0) @ tf.reshape(e_auto,[-1,2,1])"
   ]
  },
  {
   "cell_type": "code",
   "execution_count": null,
   "id": "a4f2051d-3eac-4a3e-b2bc-b019c8e0c59b",
   "metadata": {},
   "outputs": [],
   "source": [
    "mean(tf.linalg.inv(R_auto[:]),axis=0)"
   ]
  },
  {
   "cell_type": "code",
   "execution_count": null,
   "id": "8abe51a1-f8dc-4cef-94fa-cef4659e37c6",
   "metadata": {},
   "outputs": [],
   "source": [
    "figure(figsize=(20,10))\n",
    "style.use('ggplot')\n",
    "subplot(121)\n",
    "\n",
    "x1 = garray[:,0]\n",
    "x2 = garray[:,1]\n",
    "\n",
    "y1 = e_auto[:,0]\n",
    "y1corr = calibre_f[:,0,0]\n",
    "\n",
    "y2 = e_auto[:,1]\n",
    "y2corr = calibre_f[:,1,0]\n",
    "\n",
    "#linear fit\n",
    "poly_g1 = np.polyfit(x1,y1,1)\n",
    "poly_g2 = np.polyfit(x2,y2,1)\n",
    "\n",
    "\n",
    "poly_g1corr = np.polyfit(x1,y1corr,1)\n",
    "poly_g2corr = np.polyfit(x2,y2corr,1)\n",
    "\n",
    "\n",
    "#correlation coefficient\n",
    "corr_g1 = pearsonr(x1,y1)\n",
    "corr_g2 = pearsonr(x2,y2)\n",
    "\n",
    "\n",
    "corr_g1corr = pearsonr(x1,y1corr)\n",
    "corr_g2corr = pearsonr(x2,y2corr)\n",
    "\n",
    "\n",
    "scatter(x1,y1-x1-mean(y1),alpha=.7,label=\"uncalibrated\")\n",
    "scatter(x1,y1corr-x1-mean(y1corr),alpha=.7,label=\"autometacal\")\n",
    "text(-.6,0.4, \"$m_1$ = {:.2e},  $c_1$ = {:.2f}, r = {:.3f} (uncorrected)\".format(1-poly_g1[0],poly_g1[1],corr_g1[0]),fontsize=15)\n",
    "text(-.6,0.2, \"$m_1$ = {:.2e},  $c_1$ = {:.2f}, r = {:.3f} (amc)\".format(1-poly_g1corr[0],poly_g1corr[1],corr_g1corr[0]),fontsize=15)\n",
    "\n",
    "\n",
    "\n",
    "title(\"$e_1$ ellipticity measurements\", fontsize=20)\n",
    "xlabel(\"truth\",fontsize=20)\n",
    "ylabel(\" rescaled residuals ($y-x-\\\\langle y \\\\rangle $)\",fontsize=20)\n",
    "legend(fontsize=20,loc=3)\n",
    "xlim(-0.7,0.7)\n",
    "ylim(-0.7,0.7)\n",
    "\n",
    "subplot(122)\n",
    "\n",
    "scatter(x2,y2-x2-mean(y2),alpha=.7,label=\"uncalibrated\")\n",
    "scatter(x2,y2corr-x2-mean(y2corr),alpha=.7,label=\"autometacal\")\n",
    "text(-.6,0.4 , \"$m_2$ = {:.2e},  $c_2$ = {:.2f}, r = {:.3f} (uncorrected) \".format(1-poly_g2[0],poly_g2[1],corr_g2[0]),fontsize=15)\n",
    "text(-.6,0.2 , \"$m_2$ = {:.2e},  $c_2$ = {:.2f}, r = {:.3f} (amc)\".format(1-poly_g2corr[0],poly_g2corr[1],corr_g2corr[0]),fontsize=15)\n",
    "\n",
    "title(\"$e_2$ ellipticity measurements\", fontsize=20)\n",
    "xlabel(\"truth\",fontsize=20)\n",
    "\n",
    "legend(fontsize=20,loc=3)\n",
    "xlim(-0.7,0.7)\n",
    "ylim(-0.7,0.7)\n",
    "savefig(f\"linearity{time.time()}.pdf\",bbox_inches=\"tight\")"
   ]
  },
  {
   "cell_type": "code",
   "execution_count": null,
   "id": "e28f81e9-ffa9-4796-bbeb-01a843029f0b",
   "metadata": {},
   "outputs": [],
   "source": [
    "style.use('ggplot')\n",
    "figure(figsize=(20,8))\n",
    "subplot(122)\n",
    "hist(R_auto[:,0,0].numpy()[:],bins=30,density=True,label=\"$R_{11}$\");\n",
    "hist(R_auto[:,1,1].numpy()[:],bins=30,density=True,label=\"$R_{22}$\",alpha=.7);\n",
    "title(\"autometacal response matrix (1k obj),  diagonal\",fontsize=20)\n",
    "legend(fontsize=20)\n",
    "subplot(121)\n",
    "hist(R_auto[:,1,0].numpy()[:],bins=30,label=\"$R_{21}$\",density=True);\n",
    "hist(R_auto[:,0,1].numpy()[:],bins=30,label=\"$R_{12}$\",density=True,alpha=.7);\n",
    "title(\"autometacal response matrix (1k obj), off diagonal\",fontsize=20)\n",
    "legend(fontsize=20)\n",
    "savefig(f'response_distribution_newmodel{time.time()}.pdf',bbox_inches='tight')"
   ]
  },
  {
   "cell_type": "markdown",
   "id": "a6685e3a-788e-40e2-b35b-3b659504dd4f",
   "metadata": {},
   "source": [
    "## New loss (apply shear before noise, PSF, etc.)"
   ]
  },
  {
   "cell_type": "code",
   "execution_count": null,
   "id": "68d4f5e0-7bc5-4f3b-bd4b-03d2bed14e48",
   "metadata": {},
   "outputs": [],
   "source": [
    "import galflow as gf"
   ]
  },
  {
   "cell_type": "code",
   "execution_count": null,
   "id": "abbbafa3-850b-4acd-bb0d-3e8456524f64",
   "metadata": {},
   "outputs": [],
   "source": [
    "batch_size=64\n",
    "data= tfds.load('GalGen/small_stamp_100k')\n",
    "data = data['train'].cache()\n",
    "data = data.repeat()\n",
    "data = data.shuffle(1000)\n",
    "data = data.batch(batch_size)\n",
    "data = data.prefetch(tf.data.experimental.AUTOTUNE)\n",
    "batchit = data.as_numpy_iterator()"
   ]
  },
  {
   "cell_type": "code",
   "execution_count": null,
   "id": "027228db-eb58-4af7-990a-aeb857bb919c",
   "metadata": {},
   "outputs": [],
   "source": [
    "import galflow as gf\n",
    "@tf.function\n",
    "def generate_real_mcal_image(\n",
    "  gal_images,\n",
    "  reconvolution_psf_image,\n",
    "  g\n",
    "):\n",
    "  \"\"\" Generate a metacalibrated image given input and target PSFs.\n",
    "  \n",
    "  Args: \n",
    "    gal_images: tf.Tensor or np.array\n",
    "      (batch_size, N, N ) image of galaxies\n",
    "    psf_images: tf.Tensor or np.array\n",
    "      (batch_size, N, N ) image of psf model\n",
    "    reconvolution_psf_image: tf.Tensor\n",
    "      (N, N ) tensor of reconvolution psf model\n",
    "    g: tf.Tensor or np.array\n",
    "    [batch_size, 2] input shear\n",
    "  Returns:\n",
    "    img: tf.Tensor\n",
    "      tf tensor containing image of galaxy after deconvolution by psf_deconv, \n",
    "      shearing by g, and reconvolution with reconvolution_psf_image.\n",
    "  \n",
    "  \"\"\"\n",
    "  #cast stuff as float32 tensors\n",
    "  gal_images = tf.convert_to_tensor(gal_images, dtype=tf.float32)  \n",
    "  #psf_images = tf.convert_to_tensor(psf_images, dtype=tf.float32) \n",
    "  reconvolution_psf_image = tf.convert_to_tensor(reconvolution_psf_image, dtype=tf.float32)  \n",
    "  g = tf.convert_to_tensor(g, dtype=tf.float32)  \n",
    "  \n",
    "  #Get batch info\n",
    "  batch_size, nx, ny = gal_images.get_shape().as_list()  \n",
    "      \n",
    "  #add pads in real space\n",
    "  padfactor = 3 #total width of image after padding\n",
    "  fact = (padfactor - 1)//2 #how many image sizes to one direction\n",
    "  paddings = tf.constant([[0, 0,], [nx*fact, nx*fact], [ny*fact, ny*fact]])\n",
    "    \n",
    "  padded_gal_images = tf.pad(gal_images,paddings)\n",
    "  padded_psf_images = tf.pad(psf_images,paddings)\n",
    "  padded_reconvolution_psf_image = tf.pad(reconvolution_psf_image,paddings)\n",
    "    \n",
    "  #Convert galaxy images to k space\n",
    "  im_shift = tf.signal.ifftshift(padded_gal_images,axes=[1,2]) # The ifftshift is to remove the phase for centered objects\n",
    "  im_complex = tf.cast(im_shift, tf.complex64)\n",
    "  im_fft = tf.signal.fft2d(im_complex)\n",
    "  imk = tf.signal.fftshift(im_fft, axes=[1,2])#the fftshift is to put the 0 frequency at the center of the k image\n",
    "  \n",
    "  #Convert psf images to k space  \n",
    "  #psf_complex = tf.cast(padded_psf_images, tf.complex64)\n",
    "  #psf_fft = tf.signal.fft2d(psf_complex)\n",
    "  #psf_fft_abs = tf.abs(psf_fft)\n",
    "  #psf_fft_abs_complex = tf.cast(psf_fft_abs,tf.complex64)\n",
    "  #kpsf = tf.signal.fftshift(psf_fft_abs_complex,axes=[1,2])\n",
    "\n",
    "  #Convert reconvolution psf image to k space \n",
    "  rpsf_complex = tf.cast(padded_reconvolution_psf_image, tf.complex64)\n",
    "  rpsf_fft =  tf.signal.fft2d(rpsf_complex)\n",
    "  rpsf_fft_abs = tf.abs(rpsf_fft)\n",
    "  psf_fft_abs_complex = tf.cast(rpsf_fft_abs,tf.complex64)\n",
    "  krpsf = tf.signal.fftshift(psf_fft_abs_complex,axes=[1,2])\n",
    "\n",
    "  # Compute Fourier mask for high frequencies\n",
    "  # careful, this is not exactly the correct formula for fftfreq\n",
    "  kx, ky = tf.meshgrid(tf.linspace(-0.5,0.5,padfactor*nx),\n",
    "                       tf.linspace(-0.5,0.5,padfactor*ny))\n",
    "  mask = tf.cast(tf.math.sqrt(kx**2 + ky**2) <= 0.5, dtype='complex64')\n",
    "  mask = tf.expand_dims(mask, axis=0)\n",
    "\n",
    "  # Deconvolve image from input PSF\n",
    "  im_deconv = imk * mask #* ( (1./(kpsf+1e-10))*mask)\n",
    "\n",
    "  # Apply shear\n",
    "  im_sheared = gf.shear(tf.expand_dims(im_deconv,-1), g[...,0], g[...,1])[...,0]\n",
    "\n",
    "  # Reconvolve with target PSF\n",
    "  im_reconv = tf.signal.ifft2d(tf.signal.ifftshift(im_sheared * krpsf * mask))\n",
    "\n",
    "  # Compute inverse Fourier transform\n",
    "  img = tf.math.real(tf.signal.fftshift(im_reconv))\n",
    "  \n",
    "  # Add noise\n",
    "  img = img[:,fact*nx:-fact*nx,fact*ny:-fact*ny]\n",
    "  img += tf.random.normal([nx,ny],0,1e-6)\n",
    "\n",
    "  return img"
   ]
  },
  {
   "cell_type": "code",
   "execution_count": null,
   "id": "66ff1b8c-ff11-4cee-a399-b53c10fb0c79",
   "metadata": {},
   "outputs": [],
   "source": [
    "style.use('default')\n",
    "imshow(onebatch['gal_model'][0])"
   ]
  },
  {
   "cell_type": "code",
   "execution_count": null,
   "id": "819e00c0-2712-43ef-bbc1-f0b6e8ff6e9d",
   "metadata": {},
   "outputs": [],
   "source": [
    "teste=generate_real_mcal_image(onebatch['gal_model'][0][tf.newaxis],reconv_psf_image,[[0.0,0.5]])"
   ]
  },
  {
   "cell_type": "code",
   "execution_count": null,
   "id": "b5efb5f6-2a81-4009-a0c0-790f5eed8086",
   "metadata": {},
   "outputs": [],
   "source": [
    "imshow(teste[0])"
   ]
  },
  {
   "cell_type": "code",
   "execution_count": null,
   "id": "309906ae-6184-4312-80f1-8e9c8a1e3138",
   "metadata": {},
   "outputs": [],
   "source": [
    "@tf.function\n",
    "def get_real_metacal_response_finitediff(gal_image,\n",
    "                                    #psf_image,\n",
    "                                    reconv_psf_image,\n",
    "                                    shear,\n",
    "                                    step,\n",
    "                                    method):\n",
    "  \"\"\"\n",
    "  Gets shear response as a finite difference operation, \n",
    "  instead of automatic differentiation.\n",
    "  \"\"\"\n",
    "  batch_size, _ , _ = gal_image.get_shape().as_list()\n",
    "  step_batch = tf.constant(step,shape=(batch_size,1),dtype=tf.float32)\n",
    "  \n",
    "  step1p = tf.pad(step_batch,[[0,0],[0,1]])\n",
    "  step1m = tf.pad(-step_batch,[[0,0],[0,1]])\n",
    "  step2p = tf.pad(step_batch,[[0,0],[1,0]])\n",
    "  step2m = tf.pad(-step_batch,[[0,0],[1,0]])\n",
    "    \n",
    "  img0s = generate_real_mcal_image(\n",
    "    gal_image,\n",
    "    #psf_image,\n",
    "    reconv_psf_image,\n",
    "    tf.zeros([batch_size,2])\n",
    "  ) \n",
    "  \n",
    "  shears1p = shear + step1p\n",
    "  img1p = generate_real_mcal_image(\n",
    "    gal_image,\n",
    "    #psf_image,\n",
    "    reconv_psf_image,\n",
    "    shears1p\n",
    "  )\n",
    "  \n",
    "  shears1m = shear + step1m \n",
    "  img1m = generate_real_mcal_image(\n",
    "    gal_image,\n",
    "    #psf_image,\n",
    "    reconv_psf_image,\n",
    "    shears1m\n",
    "  ) \n",
    "  \n",
    "  shears2p = shear + step2p \n",
    "  img2p = generate_real_mcal_image(\n",
    "    gal_image,\n",
    "    #psf_image,\n",
    "    reconv_psf_image,\n",
    "    shears2p\n",
    "  )\n",
    "  \n",
    "  shears2m = shear + step2m \n",
    "  img2m = generate_real_mcal_image(\n",
    "    gal_image,\n",
    "    #psf_image,\n",
    "    reconv_psf_image,\n",
    "    shears2m\n",
    "  ) \n",
    "  \n",
    "  g0s = method(img0s)\n",
    "  g1p = method(img1p)\n",
    "  g1m = method(img1m)\n",
    "  g2p = method(img2p)\n",
    "  g2m = method(img2m)\n",
    "  \n",
    "  R11 = (g1p[:,0]-g1m[:,0])/(2*step)\n",
    "  R21 = (g1p[:,1]-g1m[:,1])/(2*step) \n",
    "  R12 = (g2p[:,0]-g2m[:,0])/(2*step)\n",
    "  R22 = (g2p[:,1]-g2m[:,1])/(2*step)\n",
    " \n",
    "  #N. B.:The matrix is correct. \n",
    "  #The transposition will swap R12 with R21 across a batch correctly.\n",
    "  R = tf.transpose(tf.convert_to_tensor(\n",
    "    [[R11,R21],\n",
    "     [R12,R22]],dtype=tf.float32)\n",
    "  )\n",
    "  \n",
    "  ellip_dict = {\n",
    "    'noshear':g0s,\n",
    "    '1p':g1p,\n",
    "    '1m':g1m,\n",
    "    '2p':g2p,\n",
    "    '2m':g2m,    \n",
    "  } \n",
    "\n",
    "  return ellip_dict, R"
   ]
  },
  {
   "cell_type": "code",
   "execution_count": null,
   "id": "f658e839-c0c2-4ef2-bb99-6270c526ef08",
   "metadata": {},
   "outputs": [],
   "source": [
    "newmodel = Ribli19(51)"
   ]
  },
  {
   "cell_type": "code",
   "execution_count": null,
   "id": "9af0523b-9cb9-4ef5-a258-a9e718e5c30c",
   "metadata": {},
   "outputs": [],
   "source": [
    "@tf.function\n",
    "def lossnewmodel(batch,model):\n",
    "  \n",
    "  shears = tf.random.uniform((batch_size,2),-.1,.1,dtype=tf.float32)\n",
    "  #compute response\n",
    " \n",
    "  R = get_real_metacal_response_finitediff(batch['gal_model'],\n",
    "                                      reconv_psf_image,\n",
    "                                      shear=shears,\n",
    "                                      step=0.01,\n",
    "                                      method=model)[1]\n",
    "  \n",
    "  lost = tf.norm(R - tf.eye(2),ord=2)\n",
    "  return lost, tf.reduce_mean(R,axis=0)"
   ]
  },
  {
   "cell_type": "code",
   "execution_count": null,
   "id": "559f6c99-6bcd-42e0-b775-8428ba2b7aa4",
   "metadata": {},
   "outputs": [],
   "source": [
    "@tf.function\n",
    "def stepnewmodel(batch):\n",
    "  \n",
    "  with tf.GradientTape() as tape:\n",
    "    tape.watch(newmodel.trainable_variables)\n",
    "       \n",
    "    lost, meanR = lossnewmodel(batch,newmodel)\n",
    " \n",
    "  grads = tape.gradient(lost, newmodel.trainable_variables)\n",
    "  opt.apply_gradients(zip(grads, newmodel.trainable_variables))\n",
    "  return lost, meanR\n",
    "opt = ko.Adam(learning_rate=1e-4)"
   ]
  },
  {
   "cell_type": "code",
   "execution_count": null,
   "id": "5f34eefd-c238-40da-8462-333a9efee2bf",
   "metadata": {},
   "outputs": [],
   "source": [
    "stepnewmodel(onebatch)"
   ]
  },
  {
   "cell_type": "code",
   "execution_count": null,
   "id": "fc364984-806d-431b-8580-373fbd00262e",
   "metadata": {},
   "outputs": [],
   "source": [
    "lost2 = []\n",
    "its2 = []\n",
    "iterations = 10000\n",
    "for it in range(iterations):\n",
    "  batch = batchit.next()\n",
    "  nowlost, meanR = stepnewmodel(batch)\n",
    "  if not it%10:\n",
    "    print(f\"{nowlost: .4f},   {it}  \",end='\\r')\n",
    "    lost2.append(nowlost)\n",
    "    its2.append(it)  \n"
   ]
  },
  {
   "cell_type": "code",
   "execution_count": null,
   "id": "40ade29c-ae0f-40a8-b314-1a3a19abb348",
   "metadata": {},
   "outputs": [],
   "source": [
    "newmodel.save(\"RLnewmodelclipping.model\")"
   ]
  },
  {
   "cell_type": "code",
   "execution_count": null,
   "id": "658be09f-4698-4d37-b607-78c0366cc3f0",
   "metadata": {},
   "outputs": [],
   "source": [
    "style.use('ggplot')\n",
    "plot(its2,lost2,label='finitediff')\n",
    "xlabel('iterations')\n",
    "ylabel('loss')\n",
    "yscale('log')\n",
    "legend()\n",
    "savefig(f'learningnewmodel4{time.time()}.png',bbox_inches='tight')"
   ]
  },
  {
   "cell_type": "code",
   "execution_count": null,
   "id": "eaad1b62-77de-47f2-8901-67f83a13fdcd",
   "metadata": {},
   "outputs": [],
   "source": [
    "garray_list = []\n",
    "e_auto_list = []\n",
    "R_auto_list = []\n",
    "for n in tqdm.tqdm(range(100)):\n",
    "  batch = batchit.next()\n",
    "  garray=batch['label']\n",
    "  garray_list.append(garray)\n",
    "  e_auto, R_auto = amc.get_metacal_response(batch['obs_image'],batch['psf_image'],reconv_psf_image,newmodel)\n",
    "  e_auto_list.append(e_auto)\n",
    "  R_auto_list.append(R_auto)  "
   ]
  },
  {
   "cell_type": "code",
   "execution_count": null,
   "id": "c2bf1c53-58d9-4d7c-94e4-ef867d623ffe",
   "metadata": {},
   "outputs": [],
   "source": [
    "garray=tf.concat(garray_list,axis=0)\n",
    "e_auto=tf.concat(e_auto_list,axis=0)\n",
    "R_auto=tf.concat(R_auto_list,axis=0)"
   ]
  },
  {
   "cell_type": "code",
   "execution_count": null,
   "id": "13db0897-0d12-4fa9-b093-1d3f5e9e6efa",
   "metadata": {},
   "outputs": [],
   "source": [
    "np.save(\"garraynewmodel.npy\",garray.numpy())\n",
    "np.save(\"e_autonewmodel.npy\",e_auto.numpy())\n",
    "np.save(\"R_autonewmodel.npy\",R_auto.numpy())"
   ]
  },
  {
   "cell_type": "code",
   "execution_count": null,
   "id": "971f13bf-4686-4ac7-9430-c632883418d8",
   "metadata": {},
   "outputs": [],
   "source": [
    "calibre_f=mean(tf.linalg.inv(R_auto[:]),axis=0) @ tf.reshape(e_auto,[-1,2,1])"
   ]
  },
  {
   "cell_type": "code",
   "execution_count": null,
   "id": "2313974c-a15e-499e-a24d-a3cb2b9bfede",
   "metadata": {},
   "outputs": [],
   "source": [
    "figure(figsize=(20,10))\n",
    "style.use('ggplot')\n",
    "subplot(121)\n",
    "\n",
    "x1 = garray[:,0]\n",
    "x2 = garray[:,1]\n",
    "\n",
    "y1 = e_auto[:,0]\n",
    "y1corr = calibre_f[:,0,0]\n",
    "\n",
    "y2 = e_auto[:,1]\n",
    "y2corr = calibre_f[:,1,0]\n",
    "\n",
    "#linear fit\n",
    "poly_g1 = np.polyfit(x1,y1,1)\n",
    "poly_g2 = np.polyfit(x2,y2,1)\n",
    "\n",
    "\n",
    "poly_g1corr = np.polyfit(x1,y1corr,1)\n",
    "poly_g2corr = np.polyfit(x2,y2corr,1)\n",
    "\n",
    "\n",
    "#correlation coefficient\n",
    "corr_g1 = pearsonr(x1,y1)\n",
    "corr_g2 = pearsonr(x2,y2)\n",
    "\n",
    "\n",
    "corr_g1corr = pearsonr(x1,y1corr)\n",
    "corr_g2corr = pearsonr(x2,y2corr)\n",
    "\n",
    "\n",
    "scatter(x1,y1-x1-mean(y1),alpha=.7,label=\"uncalibrated\")\n",
    "scatter(x1,y1corr-x1-mean(y1corr),alpha=.7,label=\"autometacal\")\n",
    "text(-.6,0.4, \"$m_1$ = {:.2e},  $c_1$ = {:.2f}, r = {:.3f} (uncorrected)\".format(1-poly_g1[0],poly_g1[1],corr_g1[0]),fontsize=15)\n",
    "text(-.6,0.2, \"$m_1$ = {:.2e},  $c_1$ = {:.2f}, r = {:.3f} (amc)\".format(1-poly_g1corr[0],poly_g1corr[1],corr_g1corr[0]),fontsize=15)\n",
    "\n",
    "title(\"$e_1$ ellipticity measurements\", fontsize=20)\n",
    "xlabel(\"truth\",fontsize=20)\n",
    "ylabel(\" rescaled residuals ($y- x - \\\\langle y \\\\rangle $)\",fontsize=20)\n",
    "legend(fontsize=20,loc=3)\n",
    "xlim(-0.7,0.7)\n",
    "ylim(-0.7,0.7)\n",
    "\n",
    "subplot(122)\n",
    "\n",
    "scatter(x2,y2-x2-mean(y2),alpha=.7,label=\"uncalibrated\")\n",
    "scatter(x2,y2corr-x2-mean(y2corr),alpha=.7,label=\"autometacal\")\n",
    "text(-.6,0.4 , \"$m_2$ = {:.2e},  $c_2$ = {:.2f}, r = {:.3f} (uncorrected) \".format(1-poly_g2[0],poly_g2[1],corr_g2[0]),fontsize=15)\n",
    "text(-.6,0.2 , \"$m_2$ = {:.2e},  $c_2$ = {:.2f}, r = {:.3f} (amc)\".format(1-poly_g2corr[0],poly_g2corr[1],corr_g2corr[0]),fontsize=15)\n",
    "\n",
    "title(\"$e_2$ ellipticity measurements\", fontsize=20)\n",
    "xlabel(\"truth\",fontsize=20)\n",
    "legend(fontsize=20,loc=3)\n",
    "xlim(-0.7,0.7)\n",
    "ylim(-0.7,0.7)\n",
    "savefig(f\"prednewmodel{time.time()}.pdf\",bbox_inches=\"tight\")"
   ]
  },
  {
   "cell_type": "code",
   "execution_count": null,
   "id": "cc60bbb1-28a4-46dd-af52-ba76b04c6714",
   "metadata": {},
   "outputs": [],
   "source": [
    "style.use('ggplot')\n",
    "figure(figsize=(20,8))\n",
    "subplot(122)\n",
    "hist(R_auto[:,0,0].numpy()[:],bins=30,density=True,label=\"$R_{11}$\");\n",
    "hist(R_auto[:,1,1].numpy()[:],bins=30,density=True,label=\"$R_{22}$\",alpha=.7);\n",
    "title(\"response matrix (640 obj),  diagonal\",fontsize=20)\n",
    "legend(fontsize=20)\n",
    "subplot(121)\n",
    "hist(R_auto[:,1,0].numpy()[:],bins=30,label=\"$R_{21}$\",density=True);\n",
    "hist(R_auto[:,0,1].numpy()[:],bins=30,label=\"$R_{12}$\",density=True,alpha=.7);\n",
    "title(\"response matrix 640, off diagonal\",fontsize=20)\n",
    "legend(fontsize=20)\n",
    "savefig(f'response_distribution_newmodel{time.time()}.pdf',bbox_inches='tight')"
   ]
  },
  {
   "cell_type": "markdown",
   "id": "25340e6e-4748-4175-855d-709d698d1ec3",
   "metadata": {},
   "source": [
    "## Testing the trained model in the wild:"
   ]
  },
  {
   "cell_type": "code",
   "execution_count": null,
   "id": "5c129b6e-743b-4717-b7c1-d24f4c021102",
   "metadata": {
    "tags": []
   },
   "outputs": [],
   "source": [
    "from scipy.stats import truncnorm\n",
    "g_list = []\n",
    "i=0\n",
    "gmax=.7\n",
    "gscale = .2\n",
    "gloc=0\n",
    "Ngal=200\n",
    "while i<Ngal :\n",
    "  a, b = (-gmax - gloc) / gscale, (gmax - gloc) / gscale\n",
    "  g1=g2=1\n",
    "  #select ellipticities, ensure g<=1\n",
    "  while g1**2+g2**2>1:\n",
    "    g1 = truncnorm.rvs(a, b, loc=gloc, scale=gscale)\n",
    "    g2 = truncnorm.rvs(a, b, loc=gloc, scale=gscale)\n",
    "    i+=1\n",
    "  g_list.append([g1,g2])\n",
    "garrayt = np.array(g_list)"
   ]
  },
  {
   "cell_type": "code",
   "execution_count": null,
   "id": "28ff6f87-4278-4e00-85ed-5cb9414589d5",
   "metadata": {},
   "outputs": [],
   "source": [
    "def make_data(N=1,\n",
    "  snr = 80,\n",
    "  scale = 0.263,\n",
    "  stamp_size = 51,\n",
    "  psf_fwhm = 0.9,\n",
    "  gal_hlr = 0.7,\n",
    "  gal_g1 = [0],\n",
    "  gal_g2 = [0]):\n",
    "  \n",
    "  gal_list = []\n",
    "  psf_list = []\n",
    "  \n",
    "  for n in range(N):\n",
    "    psf = galsim.Kolmogorov(fwhm=psf_fwhm).withFlux(1.0)\n",
    "\n",
    "    obj0 = galsim.Exponential(half_light_radius=gal_hlr,flux=1e5).shear(g1=gal_g1[n],g2=gal_g2[n])\n",
    "    obj = galsim.Convolve(psf, obj0)\n",
    "\n",
    "    psf_image = psf.drawImage(nx=stamp_size, ny=stamp_size, scale=scale)\n",
    "    gal_image = obj.drawImage(nx=stamp_size, ny=stamp_size, scale=scale)\n",
    "    noise = galsim.GaussianNoise()\n",
    "    gal_image.addNoiseSNR(noise,snr)\n",
    "    gal_image = tf.convert_to_tensor(gal_image.array)\n",
    "    psf_image = tf.convert_to_tensor(psf_image.array)\n",
    "    gal_list.append(gal_image)\n",
    "    psf_list.append(psf_image)\n",
    "    del gal_image\n",
    "    del psf_image\n",
    "  gal_image_stack = tf.stack(gal_list)\n",
    "  psf_image_stack = tf.stack(psf_list)\n",
    "  return gal_image_stack, psf_image_stack"
   ]
  },
  {
   "cell_type": "code",
   "execution_count": null,
   "id": "e9144fe5-74a3-4152-98df-a49dd98ceb5f",
   "metadata": {},
   "outputs": [],
   "source": [
    "snr= 1200\n",
    "scale = 0.2\n",
    "stamp_size = 51\n",
    "psf_fwhm = 0.9\n",
    "gal_hlr = 0.7\n",
    "\n",
    "gal_images, psf_images = make_data(N=Ngal,\n",
    "                                  snr = snr,\n",
    "                                  scale = scale,\n",
    "                                  stamp_size = stamp_size,\n",
    "                                  psf_fwhm = psf_fwhm,\n",
    "                                  gal_hlr = gal_hlr,\n",
    "                                  gal_g1=garrayt.T[0],gal_g2=garrayt.T[1])"
   ]
  },
  {
   "cell_type": "code",
   "execution_count": null,
   "id": "3c1a4b38-1963-4c80-a4f8-01892b853c45",
   "metadata": {},
   "outputs": [],
   "source": [
    "style.use('default')\n",
    "figure(figsize=(10,10))\n",
    "for i in range(16):\n",
    "  subplot(4,4,i+1)\n",
    "  imshow(gal_images[i])"
   ]
  },
  {
   "cell_type": "code",
   "execution_count": null,
   "id": "2f34c395-8554-4ce8-bb2f-788b5d8a1d92",
   "metadata": {},
   "outputs": [],
   "source": [
    "e_auto, R_auto = amc.get_metacal_response(gal_images,psf_images,reconv_psf_image,model)"
   ]
  },
  {
   "cell_type": "code",
   "execution_count": null,
   "id": "f2c411be-a28a-4767-b507-148e0e60a688",
   "metadata": {},
   "outputs": [],
   "source": [
    "calibre_f=(tf.linalg.inv(R_auto[:])) @ tf.reshape(e_auto,[-1,2,1])"
   ]
  },
  {
   "cell_type": "code",
   "execution_count": null,
   "id": "c45c0b8f-2d6a-4608-a761-f34f0edf9bc9",
   "metadata": {},
   "outputs": [],
   "source": [
    "figure(figsize=(20,10))\n",
    "\n",
    "subplot(121)\n",
    "\n",
    "x1 = garrayt[:,0]\n",
    "x2 = garrayt[:,1]\n",
    "\n",
    "y1 = e_auto[:,0]\n",
    "y1corr = calibre_f[:,0,0]\n",
    "\n",
    "y2 = e_auto[:,1]\n",
    "y2corr = calibre_f[:,1,0]\n",
    "\n",
    "#linear fit\n",
    "poly_g1 = np.polyfit(x1,y1,1)\n",
    "poly_g2 = np.polyfit(x2,y2,1)\n",
    "\n",
    "\n",
    "poly_g1corr = np.polyfit(x1,y1corr,1)\n",
    "poly_g2corr = np.polyfit(x2,y2corr,1)\n",
    "\n",
    "\n",
    "#correlation coefficient\n",
    "corr_g1 = pearsonr(x1,y1)\n",
    "corr_g2 = pearsonr(x2,y2)\n",
    "\n",
    "\n",
    "corr_g1corr = pearsonr(x1,y1corr)\n",
    "corr_g2corr = pearsonr(x2,y2corr)\n",
    "\n",
    "\n",
    "scatter(x1,y1-x1-mean(y1),alpha=.7,label=\"uncalibrated\")\n",
    "scatter(x1,y1corr-x1-mean(y1corr),alpha=.7,label=\"autometacal\")\n",
    "text(-.6,0.4, \"$m_1$ = {:.2e},  $c_1$ = {:.2e}, r = {:.2e} (uncorrected)\".format(1-poly_g1[0],poly_g1[1],corr_g1[0]),fontsize=15)\n",
    "text(-.6,0.2, \"$m_1$ = {:.2e},  $c_1$ = {:.2e}, r = {:.2e} (amc)\".format(1-poly_g1corr[0],poly_g1corr[1],corr_g1corr[0]),fontsize=15)\n",
    "\n",
    "\n",
    "\n",
    "title(\"$e_1$ ellipticity measurements\", fontsize=20)\n",
    "xlabel(\"truth\",fontsize=20)\n",
    "ylabel(\" rescaled residuals ($y-x-\\\\langle y \\\\rangle $)\",fontsize=20)\n",
    "legend(fontsize=20,loc=3)\n",
    "xlim(-0.7,0.7)\n",
    "ylim(-0.7,0.7)\n",
    "\n",
    "subplot(122)\n",
    "\n",
    "scatter(x2,y2-x2-mean(y2),alpha=.7,label=\"uncalibrated\")\n",
    "scatter(x2,y2corr-x2-mean(y2corr),alpha=.7,label=\"autometacal\")\n",
    "text(-.6,0.4 , \"$m_2$ = {:.2e},  $c_2$ = {:.2e}, r = {:.2e} (uncorrected) \".format(1-poly_g2[0],poly_g2[1],corr_g2[0]),fontsize=15)\n",
    "text(-.6,0.2 , \"$m_2$ = {:.2e},  $c_2$ = {:.2e}, r = {:.2e} (amc)\".format(1-poly_g2corr[0],poly_g2corr[1],corr_g2corr[0]),fontsize=15)\n",
    "\n",
    "title(\"$e_2$ ellipticity measurements\", fontsize=20)\n",
    "xlabel(\"truth\",fontsize=20)\n",
    "\n",
    "legend(fontsize=20,loc=3)\n",
    "xlim(-0.7,0.7)\n",
    "ylim(-0.7,0.7)\n",
    "savefig(f\"linearity_exotic_test.pdf\",bbox_inches=\"tight\")"
   ]
  },
  {
   "cell_type": "code",
   "execution_count": null,
   "id": "131531b8-d646-4b52-854e-a8cb8224b1d3",
   "metadata": {},
   "outputs": [],
   "source": [
    "style.use('ggplot')\n",
    "figure(figsize=(20,8))\n",
    "subplot(122)\n",
    "hist(R_auto[:,0,0].numpy()[:],bins=30,density=True,label=\"$R_{11}$\");\n",
    "hist(R_auto[:,1,1].numpy()[:],bins=30,density=True,label=\"$R_{22}$\",alpha=.7);\n",
    "title(\"autometacal response matrix (1k obj),  diagonal\",fontsize=20)\n",
    "legend(fontsize=20)\n",
    "subplot(121)\n",
    "hist(R_auto[:,1,0].numpy()[:],bins=30,label=\"$R_{21}$\",density=True);\n",
    "hist(R_auto[:,0,1].numpy()[:],bins=30,label=\"$R_{12}$\",density=True,alpha=.7);\n",
    "title(\"autometacal response matrix (1k obj), off diagonal\",fontsize=20)\n",
    "legend(fontsize=20)\n",
    "savefig('response_distribution_exotic_data.pdf',bbox_inches='tight')"
   ]
  },
  {
   "cell_type": "code",
   "execution_count": null,
   "id": "df983c84-80e4-4d2f-819a-ae43b980069d",
   "metadata": {},
   "outputs": [],
   "source": []
  },
  {
   "cell_type": "code",
   "execution_count": null,
   "id": "9d415630-b940-4b76-b0c0-3dee74d42c11",
   "metadata": {},
   "outputs": [],
   "source": []
  },
  {
   "cell_type": "code",
   "execution_count": null,
   "id": "8253deb3-d458-48f1-8c7c-2d5d3422f6f6",
   "metadata": {},
   "outputs": [],
   "source": []
  }
 ],
 "metadata": {
  "kernelspec": {
   "display_name": "Python 3",
   "language": "python",
   "name": "python3"
  },
  "language_info": {
   "codemirror_mode": {
    "name": "ipython",
    "version": 3
   },
   "file_extension": ".py",
   "mimetype": "text/x-python",
   "name": "python",
   "nbconvert_exporter": "python",
   "pygments_lexer": "ipython3",
   "version": "3.8.8"
  }
 },
 "nbformat": 4,
 "nbformat_minor": 5
}
